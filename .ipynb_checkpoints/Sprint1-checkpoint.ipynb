{
 "cells": [
  {
   "cell_type": "markdown",
   "id": "4469b142",
   "metadata": {},
   "source": [
    "#This is my first Jupyter Notebook"
   ]
  },
  {
   "cell_type": "markdown",
   "id": "7a647aa4",
   "metadata": {},
   "source": [
    "##Objectives:\n",
    "*Variables and math operations\n",
    "*Casting\n",
    "*Strings\n",
    "*Booleans"
   ]
  },
  {
   "cell_type": "markdown",
   "id": "3338262d",
   "metadata": {},
   "source": [
    "###Variables and math operations"
   ]
  },
  {
   "cell_type": "code",
   "execution_count": 1,
   "id": "19de047e",
   "metadata": {
    "scrolled": true
   },
   "outputs": [
    {
     "name": "stdout",
     "output_type": "stream",
     "text": [
      "15\n"
     ]
    }
   ],
   "source": [
    "a = 5\n",
    "b = 10\n",
    "print(a+b)\n"
   ]
  },
  {
   "cell_type": "code",
   "execution_count": 2,
   "id": "479ead26",
   "metadata": {},
   "outputs": [
    {
     "name": "stdout",
     "output_type": "stream",
     "text": [
      "Volvo car\n"
     ]
    }
   ],
   "source": [
    "c = \"Volvo\"\n",
    "d = \"car\"\n",
    "print(c + \" \" + d)"
   ]
  },
  {
   "cell_type": "markdown",
   "id": "1dd2f1cc",
   "metadata": {},
   "source": [
    "###Casting"
   ]
  },
  {
   "cell_type": "code",
   "execution_count": 3,
   "id": "21ca5d65",
   "metadata": {},
   "outputs": [
    {
     "name": "stdout",
     "output_type": "stream",
     "text": [
      "1.0\n"
     ]
    }
   ],
   "source": [
    "x = float(1)\n",
    "print(x)"
   ]
  },
  {
   "cell_type": "code",
   "execution_count": 4,
   "id": "df062461",
   "metadata": {},
   "outputs": [
    {
     "name": "stdout",
     "output_type": "stream",
     "text": [
      "2\n"
     ]
    }
   ],
   "source": [
    "y = str(2)\n",
    "print(y)"
   ]
  },
  {
   "cell_type": "markdown",
   "id": "8a02271b",
   "metadata": {},
   "source": [
    "###Strings"
   ]
  },
  {
   "cell_type": "code",
   "execution_count": 5,
   "id": "c917f4a6",
   "metadata": {},
   "outputs": [
    {
     "name": "stdout",
     "output_type": "stream",
     "text": [
      "b\n",
      "a\n",
      "n\n",
      "a\n",
      "n\n",
      "a\n"
     ]
    }
   ],
   "source": [
    "for x in \"banana\":\n",
    "    print(x)"
   ]
  },
  {
   "cell_type": "markdown",
   "id": "061787e7",
   "metadata": {},
   "source": [
    "###Booleans"
   ]
  },
  {
   "cell_type": "code",
   "execution_count": 6,
   "id": "239ff988",
   "metadata": {
    "scrolled": true
   },
   "outputs": [
    {
     "name": "stdout",
     "output_type": "stream",
     "text": [
      "True\n"
     ]
    }
   ],
   "source": [
    "txt = \"The best things in life are free!\"\n",
    "print(\"free\" in txt)"
   ]
  },
  {
   "cell_type": "markdown",
   "id": "87e4cb8b",
   "metadata": {
    "tags": []
   },
   "source": [
    "<img src=\"joy.jpg\" style=\"width: 300px;\"/>"
   ]
  },
  {
   "cell_type": "markdown",
   "id": "9085e8c7",
   "metadata": {},
   "source": [
    "*Dominika Petru*"
   ]
  },
  {
   "cell_type": "markdown",
   "id": "e0aceced",
   "metadata": {},
   "source": [
    "[https://github.com/dominikapetru/Jupyter_Markdown]"
   ]
  }
 ],
 "metadata": {
  "kernelspec": {
   "display_name": "Python 3",
   "language": "python",
   "name": "python3"
  },
  "language_info": {
   "codemirror_mode": {
    "name": "ipython",
    "version": 3
   },
   "file_extension": ".py",
   "mimetype": "text/x-python",
   "name": "python",
   "nbconvert_exporter": "python",
   "pygments_lexer": "ipython3",
   "version": "3.8.8"
  }
 },
 "nbformat": 4,
 "nbformat_minor": 5
}
