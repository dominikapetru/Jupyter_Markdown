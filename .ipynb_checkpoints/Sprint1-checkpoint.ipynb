{
 "cells": [
  {
   "cell_type": "markdown",
   "id": "fe04803e",
   "metadata": {},
   "source": [
    "#This is my first Jupyter Notebook"
   ]
  },
  {
   "cell_type": "markdown",
   "id": "14e3b18e",
   "metadata": {},
   "source": [
    "##Objectives:\n",
    "*Variables and math operations\n",
    "*Casting\n",
    "*Strings\n",
    "*Booleans"
   ]
  },
  {
   "cell_type": "markdown",
   "id": "4c933af4",
   "metadata": {},
   "source": [
    "###Variables and math operations"
   ]
  },
  {
   "cell_type": "code",
   "execution_count": 1,
   "id": "a9217edd",
   "metadata": {
    "scrolled": true
   },
   "outputs": [
    {
     "name": "stdout",
     "output_type": "stream",
     "text": [
      "15\n"
     ]
    }
   ],
   "source": [
    "a = 5\n",
    "b = 10\n",
    "print(a+b)\n"
   ]
  },
  {
   "cell_type": "code",
   "execution_count": 2,
   "id": "ac393cc1",
   "metadata": {},
   "outputs": [
    {
     "name": "stdout",
     "output_type": "stream",
     "text": [
      "Volvo car\n"
     ]
    }
   ],
   "source": [
    "c = \"Volvo\"\n",
    "d = \"car\"\n",
    "print(c + \" \" + d)"
   ]
  },
  {
   "cell_type": "markdown",
   "id": "fdb04451",
   "metadata": {},
   "source": [
    "###Casting"
   ]
  },
  {
   "cell_type": "code",
   "execution_count": 3,
   "id": "9feff049",
   "metadata": {},
   "outputs": [
    {
     "name": "stdout",
     "output_type": "stream",
     "text": [
      "1.0\n"
     ]
    }
   ],
   "source": [
    "x = float(1)\n",
    "print(x)"
   ]
  },
  {
   "cell_type": "code",
   "execution_count": 4,
   "id": "2bdb050d",
   "metadata": {},
   "outputs": [
    {
     "name": "stdout",
     "output_type": "stream",
     "text": [
      "2\n"
     ]
    }
   ],
   "source": [
    "y = str(2)\n",
    "print(y)"
   ]
  },
  {
   "cell_type": "markdown",
   "id": "ed61d6a8",
   "metadata": {},
   "source": [
    "###Strings"
   ]
  },
  {
   "cell_type": "code",
   "execution_count": 5,
   "id": "addf8fea",
   "metadata": {},
   "outputs": [
    {
     "name": "stdout",
     "output_type": "stream",
     "text": [
      "b\n",
      "a\n",
      "n\n",
      "a\n",
      "n\n",
      "a\n"
     ]
    }
   ],
   "source": [
    "for x in \"banana\":\n",
    "    print(x)"
   ]
  },
  {
   "cell_type": "markdown",
   "id": "ed6559e0",
   "metadata": {},
   "source": [
    "###Booleans"
   ]
  },
  {
   "cell_type": "code",
   "execution_count": 6,
   "id": "4abc3a3f",
   "metadata": {
    "scrolled": true
   },
   "outputs": [
    {
     "name": "stdout",
     "output_type": "stream",
     "text": [
      "True\n"
     ]
    }
   ],
   "source": [
    "txt = \"The best things in life are free!\"\n",
    "print(\"free\" in txt)"
   ]
  },
  {
   "cell_type": "markdown",
   "id": "3b027430",
   "metadata": {},
   "source": [
    "![Logo](joy.jpg)"
   ]
  },
  {
   "cell_type": "markdown",
   "id": "a3ee6b23",
   "metadata": {},
   "source": [
    "*Dominika Petru*"
   ]
  },
  {
   "cell_type": "markdown",
   "id": "43da65a4",
   "metadata": {},
   "source": [
    "[https://github.com/dominikapetru/Jupyter_Markdown]"
   ]
  }
 ],
 "metadata": {
  "kernelspec": {
   "display_name": "Python 3",
   "language": "python",
   "name": "python3"
  },
  "language_info": {
   "codemirror_mode": {
    "name": "ipython",
    "version": 3
   },
   "file_extension": ".py",
   "mimetype": "text/x-python",
   "name": "python",
   "nbconvert_exporter": "python",
   "pygments_lexer": "ipython3",
   "version": "3.8.8"
  }
 },
 "nbformat": 4,
 "nbformat_minor": 5
}
